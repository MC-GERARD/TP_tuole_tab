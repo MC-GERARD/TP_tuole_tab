{
 "cells": [
  {
   "cell_type": "markdown",
   "metadata": {},
   "source": [
    "<b><u>Exercice 1</u></b> : Ecrire une fonction qui prend en argument un tableau de nombres entiers et renvoie deux tableaux : \n",
    "        le premier tableau contient les nombres pairs et le second les nombres impairs."
   ]
  },
  {
   "cell_type": "code",
   "execution_count": null,
   "metadata": {},
   "outputs": [],
   "source": []
  },
  {
   "cell_type": "markdown",
   "metadata": {},
   "source": [
    "<b><u>Exercice 2</u></b> :Ecrire une fonction qui prend en argument un tableau de mots et renvoie deux tableaux : le premier tableau contient les mots de moins de six lettres et le second contient les mots de six lettres ou plus."
   ]
  },
  {
   "cell_type": "code",
   "execution_count": null,
   "metadata": {},
   "outputs": [],
   "source": []
  },
  {
   "cell_type": "markdown",
   "metadata": {},
   "source": [
    "<b><u>Exercice 3</u></b> : Le carré magique\n",
    "Un carré d’ordre n est un tableau carré contenant n² entiers strictement positifs.\n",
    "On dit qu’un carré d’ordre n est magique si :\n",
    "* il contient tous les nombres entiers de 1 à n² ;\n",
    "* les sommes des nombres de chaque rangée, les sommes des nombres de chaque colonne et les sommes des nombres de chaque \n",
    "diagonale principale sont égales.\n",
    "\n",
    "On modélise un carré par un tableau de tableaux de nombres.\n",
    "On donne des exemples ci-dessous.\n",
    "[Voir feuille d'exercices](Tp_tuple_ta.png)\n",
    "\n",
    " 1 a. Quelle est la valeur de len(carre4) ?\n",
    "  "
   ]
  },
  {
   "cell_type": "raw",
   "metadata": {},
   "source": []
  },
  {
   "cell_type": "code",
   "execution_count": null,
   "metadata": {},
   "outputs": [],
   "source": []
  },
  {
   "cell_type": "markdown",
   "metadata": {},
   "source": [
    " b. Quelle est la valeur de carre3[1] ?"
   ]
  },
  {
   "cell_type": "raw",
   "metadata": {},
   "source": []
  },
  {
   "cell_type": "code",
   "execution_count": null,
   "metadata": {},
   "outputs": [],
   "source": []
  },
  {
   "cell_type": "markdown",
   "metadata": {},
   "source": [
    "   c. Quelle est la valeur de carre3[0][2] ?"
   ]
  },
  {
   "cell_type": "raw",
   "metadata": {},
   "source": []
  },
  {
   "cell_type": "code",
   "execution_count": null,
   "metadata": {},
   "outputs": [],
   "source": []
  },
  {
   "cell_type": "markdown",
   "metadata": {},
   "source": [
    "d. Quelle instruction permet de récupérer la valeur 3 de carre4 ?"
   ]
  },
  {
   "cell_type": "raw",
   "metadata": {},
   "source": []
  },
  {
   "cell_type": "code",
   "execution_count": null,
   "metadata": {},
   "outputs": [],
   "source": []
  },
  {
   "cell_type": "markdown",
   "metadata": {},
   "source": [
    "2. On considère le programme suivant :\n",
    "````Python\n",
    "def somme_ligne(carre,n):\n",
    "    \"\"\"carre est un un tableau carré de nombres\n",
    "    n est un nombre entier\"\"\"\n",
    "    somme = 0\n",
    "    for nombre in carre[n]:\n",
    "        somme = somme + nombre\n",
    "    return somme\n",
    "````\n",
    " a. Que vaut somme_ligne(carre4,2) ?\n",
    "       A quoi sert cette fonction ?"
   ]
  },
  {
   "cell_type": "raw",
   "metadata": {},
   "source": []
  },
  {
   "cell_type": "markdown",
   "metadata": {},
   "source": [
    " b. Ecrire le programme d’une fonction qui prend en argument un carré et qui vérifie que les sommes des nombres de chaque ligne sont égales."
   ]
  },
  {
   "cell_type": "code",
   "execution_count": null,
   "metadata": {},
   "outputs": [],
   "source": []
  },
  {
   "cell_type": "markdown",
   "metadata": {},
   "source": [
    " c. Ecrire le programme d’une fonction qui prend en argument un carré ainsi que le numéro d’une colonne,\n",
    "       et qui renvoie que la somme des nombres de cette colonne."
   ]
  },
  {
   "cell_type": "code",
   "execution_count": null,
   "metadata": {},
   "outputs": [],
   "source": []
  },
  {
   "cell_type": "markdown",
   "metadata": {},
   "source": [
    " d. Ecrire une fonction est_magique() qui prend en argument un carré et renvoie True si le carré est bien\n",
    "      magique et False sinon."
   ]
  },
  {
   "cell_type": "code",
   "execution_count": null,
   "metadata": {},
   "outputs": [],
   "source": []
  },
  {
   "cell_type": "markdown",
   "metadata": {},
   "source": [
    "<b><u>Exercice 4 </u></b> : Manipuler des tableaux de nombres\n",
    "On considère le programme suivant :\n",
    "````Python\n",
    "def mystere(tab):\n",
    "    \"\"\"Argument d'entrée : un tableau d'élèments comparables\"\"\"\n",
    "    for i in range(1,len(tab)):\n",
    "        #ICI\n",
    "        if tab[i-1]>tab[i]:\n",
    "            return False\n",
    "    return True\n",
    "\n",
    "assert mystere([1,2,6,9])\n",
    "assert not mystere([1,6,2,9])\n",
    "````\n",
    "1. Compléter le tableau ci-dessous avec les valeurs des expressions à chaque passage par ligne indiquée par le commentaire  # ICI lors de l’appel de la fonction mystere([1,6,2,9]).\n",
    "\n",
    "````\n",
    "| i | i-1 | tab[i-1] | tab[i] |\n",
    "-------------------------------\n",
    "|   |     |          |        |\n",
    "````\n"
   ]
  },
  {
   "cell_type": "raw",
   "metadata": {},
   "source": []
  },
  {
   "cell_type": "markdown",
   "metadata": {},
   "source": [
    "2. Compléter le tableau avec les valeurs des expressions à chaque passage par \n",
    "la ligne indiquée lors de l’appel de mystere([1,6,2,9]).\n",
    "\n",
    "````\n",
    "| i | i-1 | tab[i-1] | tab[i] |\n",
    "-------------------------------\n",
    "|   |     |          |        |\n",
    "````"
   ]
  },
  {
   "cell_type": "raw",
   "metadata": {},
   "source": []
  },
  {
   "cell_type": "markdown",
   "metadata": {},
   "source": [
    "3. On considère les variables :\n",
    "a=mystere([\"kiwi\", \"pomme\", \"ananas\", \"framboise\"]) et\n",
    "b=mystere([\"ananas\", \"framboise\", \"kiwi\", \"pomme\"]).\n",
    "  a. Quelle est la valeur de a ? la valeur de b ?\n",
    "  b. Que fait cette fonction mystere ?"
   ]
  },
  {
   "cell_type": "raw",
   "metadata": {},
   "source": []
  }
 ],
 "metadata": {
  "kernelspec": {
   "display_name": "Python 3",
   "language": "python",
   "name": "python3"
  },
  "language_info": {
   "codemirror_mode": {
    "name": "ipython",
    "version": 3
   },
   "file_extension": ".py",
   "mimetype": "text/x-python",
   "name": "python",
   "nbconvert_exporter": "python",
   "pygments_lexer": "ipython3",
   "version": "3.7.3"
  }
 },
 "nbformat": 4,
 "nbformat_minor": 2
}
